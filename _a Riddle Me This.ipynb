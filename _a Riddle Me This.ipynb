{
 "cells": [
  {
   "cell_type": "code",
   "execution_count": 1,
   "id": "1936e321",
   "metadata": {},
   "outputs": [
    {
     "name": "stdout",
     "output_type": "stream",
     "text": [
      "Come n' Play~ :D \n",
      " (choices: yes, no, maybe so)\n",
      "yes\n",
      "yay!!!!!\n"
     ]
    }
   ],
   "source": [
    "from PIL import Image #image thing\n",
    "happy=Image.open('Elif_ the happy sphinx.jpg')\n",
    "sad=Image.open('Elif_the sad sphinx.jpg')\n",
    "confused=Image.open('Elif_ the confused sphinx.jpg')\n",
    "smug=Image.open('Elif_ the smug sphinx.jpg')\n",
    "treasure=Image.open('treasure.jpg')\n",
    "\n",
    "print(\"Come n' Play~ :D \\n (choices: yes, no, maybe so)\")\n",
    "answer=input ()\n",
    "if answer == 'yes':\n",
    "    happy.show()\n",
    "    print(\"yay!!!!!\")\n",
    "elif answer == 'no':\n",
    "    print(\"that's too bad :< \\n (you made Elif the sphinx cry)\")\n",
    "    sad.show()\n",
    "else:\n",
    "    print(\"hmmmm.... sorry what was that? (try again or give up)\")\n",
    "    confused\n",
    "    answer=input()\n",
    "    if answer == 'yes':\n",
    "        print(\"yay!!!!!\")\n",
    "        happy.show()\n",
    "    elif answer == 'no':\n",
    "        print(\"that's too bad :< \\n (you made Elif cry)\")\n",
    "        sad.show()\n",
    "    else:\n",
    "        print(\"There seems to be more confusion (start over)\")\n",
    "        confused.show()"
   ]
  },
  {
   "cell_type": "code",
   "execution_count": 2,
   "id": "a55ffc9f",
   "metadata": {},
   "outputs": [
    {
     "name": "stdout",
     "output_type": "stream",
     "text": [
      "now that I have tricked you... I mean you said that you would play with me... \n",
      " I, as a mighty sphinx, have three riddles for you! :>\n",
      "let's begin! I heard this from a legendary book from a famous sphinx! This will be the first of my three trials.\n"
     ]
    }
   ],
   "source": [
    "print('now that I have tricked you... I mean you said that you would play with me... \\n I, as a mighty sphinx, have three riddles for you! :>')\n",
    "print('let\\'s begin! I heard this from a legendary book from a famous sphinx! This will be the first of my three trials.')"
   ]
  },
  {
   "cell_type": "code",
   "execution_count": null,
   "id": "dbd1a1ef",
   "metadata": {},
   "outputs": [
    {
     "name": "stdout",
     "output_type": "stream",
     "text": [
      "\n",
      " \"What uses four legs in the morning, two legs in the afternoon, and three legs at night?\"\n",
      "\n",
      "(Elif's gaze intensifies\n"
     ]
    }
   ],
   "source": [
    "#game 1\n",
    "print('\\n \"What uses four legs in the morning, two legs in the afternoon, and three legs at night?\"')\n",
    "print('\\n(Elif\\'s gaze intensifies')\n",
    "answer=input()\n",
    "if answer == 'human':\n",
    "    print('I knew you would get it! You pass this round')\n",
    "elif answer == 'man':\n",
    "    print('I knew you would get it! You pass this round')\n",
    "elif answer == 'men':\n",
    "    print('I knew you would get it! You pass this round')\n",
    "elif answer == 'woman':\n",
    "    print('I knew you would get it! You pass this round')\n",
    "elif answer == 'women':\n",
    "    print('I knew you would get it! You pass this round')\n",
    "elif answer == 'humankind':\n",
    "    print('I knew you would get it! You pass this round')\n",
    "elif answer == 'mankind':\n",
    "    print('I knew you would get it! You pass this round')\n",
    "else:\n",
    "    print('Looks like I got you there! I will grant you two more guesses')\n",
    "    smug\n",
    "    answer=input()\n",
    "    if answer == 'human':\n",
    "        print('I knew you would get it! You pass this round')\n",
    "    elif answer == 'man':\n",
    "        print('I knew you would get it! You pass this round')\n",
    "    elif answer == 'men':\n",
    "        print('I knew you would get it! You pass this round')\n",
    "    elif answer == 'woman':\n",
    "        print('I knew you would get it! You pass this round')\n",
    "    elif answer == 'women':\n",
    "        print('I knew you would get it! You pass this round')\n",
    "    elif answer == 'humankind':\n",
    "        print('I knew you would get it! You pass this round')\n",
    "    elif answer == 'mankind':\n",
    "        print('I knew you would get it! You pass this round')\n",
    "    else:\n",
    "        print('Looks like I got you again! I will grant you one more guesses')\n",
    "        smug\n",
    "        answer=input()\n",
    "        if answer == 'human':\n",
    "            print('I knew you would get it! You pass this round')\n",
    "        elif answer == 'man':\n",
    "            print('I knew you would get it! You pass this round')\n",
    "        elif answer == 'men':\n",
    "            print('I knew you would get it! You pass this round')\n",
    "        elif answer == 'woman':\n",
    "            print('I knew you would get it! You pass this round')\n",
    "        elif answer == 'women':\n",
    "            print('I knew you would get it! You pass this round')\n",
    "        elif answer == 'humankind':\n",
    "            print('I knew you would get it! You pass this round')\n",
    "        elif answer == 'mankind':\n",
    "            print('I knew you would get it! You pass this round')\n",
    "        else:\n",
    "            print('I win. I am such a good sphinx. Aren\\'t I?')\n",
    "            answer=input()\n",
    "            if answer == 'yes':\n",
    "                happy.show()\n",
    "                print(\"Please play with me again!!!!!\")\n",
    "            elif answer == 'no':\n",
    "                print(\"oh. :< \\n sorry, you feel that way. (you made Elif the sphinx cry) \\n But, I know I am, so.. guess we can't be friends...\")\n",
    "                sad.show()\n",
    "            else:\n",
    "                confused\n",
    "            \n",
    "        \n",
    "          \n",
    "    \n",
    "      "
   ]
  },
  {
   "cell_type": "code",
   "execution_count": null,
   "id": "d5bb7672",
   "metadata": {},
   "outputs": [],
   "source": [
    "#game 2\n",
    "print('Now that I know you are smart, let\\'s see if you can the second one!')\n",
    "print('What stays bright but we turn away to see the dark? It has been so for quite a while as even the year depends on its survival')\n",
    "answer=input()\n",
    "if answer == 'sun':\n",
    "    print('I knew you would get it! You pass this round')\n",
    "else:\n",
    "    print('Looks like I got you there! I will grant you two more guesses')\n",
    "    smug.show()\n",
    "    answer=input()\n",
    "    if answer == 'sun':\n",
    "        print('I knew you would get it! You pass this round')\n",
    "    \n",
    "    else:\n",
    "        print('Looks like I got you again! I will grant you one more guesses')\n",
    "        smug.show()\n",
    "        answer=input()\n",
    "        if answer == 'sun':\n",
    "            print('I knew you would get it! You pass this round')\n",
    "        else:\n",
    "            print('I win. I am such a good sphinx. Aren\\'t I?')\n",
    "            answer=input().show()\n",
    "            if answer == 'yes':\n",
    "                happy.show()\n",
    "                print(\"Please play with me again!!!!!\")\n",
    "            elif answer == 'no':\n",
    "                print(\"oh. :< \\n sorry, you feel that way. (you made Elif the sphinx cry) \\n But, I know I am, so.. guess we can't be friends... because you lack taste\")\n",
    "                sad.show()\n",
    "            else:\n",
    "                confused.show()"
   ]
  },
  {
   "cell_type": "code",
   "execution_count": null,
   "id": "d5420e3c",
   "metadata": {},
   "outputs": [],
   "source": [
    "#game 3\n",
    "print('This one is tricky, a friend told me this let\\'s see if you can get this third one! I had to look up the spelling though... this is also in HITC:')\n",
    "print('I turn polar bears white and I will make you cry. \\n I make guys have to pee and girls comb their hair. \\nI make celebrities look stupid and normal people look like celebrities. \\nI turn pancakes brown and make your champagne bubble. \\nIf you squeeze me, I’ll pop. If you look at me, you\\’ll pop.')\n",
    "answer=input()\n",
    "if answer == 'no':\n",
    "    print('yeah... I do not get it either... it is so tricky! Let\\'s play again some time soon!')\n",
    "    happy.show()\n",
    "else:\n",
    "    print('Looks like I got you there! I will grant you two more guesses')\n",
    "    smug.show()\n",
    "    answer=input()\n",
    "    if answer == 'no':\n",
    "        print('yeah... I do not get it either... it is so tricky! Let\\'s play again some time soon!')\n",
    "        happy.show()\n",
    "    else:\n",
    "        print('Looks like I got you again! I will grant you one more guesses')\n",
    "        smug.show()\n",
    "        answer=input()\n",
    "        if answer == 'no':    \n",
    "            print('yeah... I do not get it either... it is so tricky! Let\\'s play again some time soon!')\n",
    "            happy.show()\n",
    "        else: \n",
    "            print('I win. I am such a good sphinx. Aren\\'t I?')\n",
    "            answer=input()\n",
    "            if answer == 'yes':\n",
    "                happy.show()\n",
    "                print(\"Please play with me again!!!!!\")\n",
    "            elif answer == 'no':\n",
    "                print(\"oh. :< \\n sorry, you feel that way. (you made Elif the sphinx cry) \\n But, I know I am, so.. guess we can't be friends... because you lack taste\")\n",
    "                sad.show()\n",
    "            else:\n",
    "                confused.show()"
   ]
  },
  {
   "cell_type": "code",
   "execution_count": null,
   "id": "6020bea3",
   "metadata": {},
   "outputs": [],
   "source": [
    "# if you win\n",
    "print('You are a mighty riddler to have won my game. Help yourself to share in the treasure! Come visit me soon :>')\n",
    "treasure"
   ]
  },
  {
   "cell_type": "code",
   "execution_count": null,
   "id": "00d2b2f1",
   "metadata": {},
   "outputs": [],
   "source": [
    "print('the end')\n",
    "happy"
   ]
  }
 ],
 "metadata": {
  "kernelspec": {
   "display_name": "Python 3",
   "language": "python",
   "name": "python3"
  },
  "language_info": {
   "codemirror_mode": {
    "name": "ipython",
    "version": 3
   },
   "file_extension": ".py",
   "mimetype": "text/x-python",
   "name": "python",
   "nbconvert_exporter": "python",
   "pygments_lexer": "ipython3",
   "version": "3.8.8"
  }
 },
 "nbformat": 4,
 "nbformat_minor": 5
}
